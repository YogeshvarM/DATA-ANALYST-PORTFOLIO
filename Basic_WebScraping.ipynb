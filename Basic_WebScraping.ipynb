{
 "cells": [
  {
   "cell_type": "code",
   "execution_count": 5,
   "id": "93c8a646",
   "metadata": {
    "scrolled": true
   },
   "outputs": [],
   "source": [
    "#importing libraries\n",
    "from bs4 import BeautifulSoup   #Beautiful Soup is a Python library for pulling data out of HTML and XML files.\n",
    "import requests                 #Make a request to a web page, and print the response text\n"
   ]
  },
  {
   "cell_type": "code",
   "execution_count": 6,
   "id": "bd53ebab",
   "metadata": {},
   "outputs": [
    {
     "name": "stdout",
     "output_type": "stream",
     "text": [
      "\n",
      "            Google Pixel 6 5G (Stromy Black, 8GB RAM, 128GB Storage)\n",
      "           \n",
      "\n",
      "                              ₹62,300.00\n",
      "                             \n"
     ]
    }
   ],
   "source": [
    "# connect to Website and pull in data\n",
    "url='https://www.amazon.in/Google-Pixel-Stromy-Black-Storage/dp/B09LZ8GXR7/ref=sr_1_2?keywords=pixel+6&qid=1644214474&sprefix=pixel+%2Caps%2C413&sr=8-2'\n",
    "headers={\"User-Agent\": \"Mozilla/5.0 (Windows NT 10.0; Win64; x64) AppleWebKit/537.36 (KHTML, like Gecko) Chrome/98.0.4758.82 Safari/537.36\",\"Accept-Encoding\":\"gzip, deflate\", \"Accept\":\"text/html,application/xhtml+xml,application/xml;q=0.9,*/*;q=0.8\", \"DNT\":\"1\",\"Connection\":\"close\", \"Upgrade-Insecure-Requests\":\"1\"}\n",
    "page=requests.get(url,headers=headers)\n",
    "soup1=BeautifulSoup(page.content,\"html.parser\")\n",
    "soup2=BeautifulSoup(soup1.prettify(),\"html.parser\")\n",
    "title=soup2.find(id='productTitle').get_text()\n",
    "price=soup2.find('span','a-offscreen').get_text()\n",
    "print(title)\n",
    "print(price)"
   ]
  },
  {
   "cell_type": "code",
   "execution_count": 7,
   "id": "e14d8531",
   "metadata": {},
   "outputs": [
    {
     "name": "stdout",
     "output_type": "stream",
     "text": [
      "Google Pixel 6 5G (Stromy Black, 8GB RAM, 128GB Storage)\n",
      "62,300.00\n"
     ]
    }
   ],
   "source": [
    "#cleaning data\n",
    "price=price.strip()[1:] #Remove spaces at the beginning and at the end of the string:\n",
    "title=title.strip()\n",
    "print(title)\n",
    "print(price)"
   ]
  },
  {
   "cell_type": "code",
   "execution_count": 8,
   "id": "0bd7236d",
   "metadata": {
    "scrolled": true
   },
   "outputs": [
    {
     "name": "stdout",
     "output_type": "stream",
     "text": [
      "2022-02-07\n"
     ]
    }
   ],
   "source": [
    "#creating a timestamp for tracking the prize according to date wise\n",
    "import datetime\n",
    "today=datetime.date.today()\n",
    "print(today)"
   ]
  },
  {
   "cell_type": "code",
   "execution_count": 9,
   "id": "07df392c",
   "metadata": {},
   "outputs": [],
   "source": [
    "#creating csv file and add this data into 'csv'\n",
    "import csv\n",
    "header=['Date','Product_Name','Price']\n",
    "data=[today,title,price]\n",
    "\n",
    "#with statement in Python is used in exception handling to make the code cleaner and much more readable.\n",
    "#w - write \n",
    "#csv.writer class is used to insert data to the CSV file.\n",
    "#writerow(): This method writes a single row at a time. Field row can be written using this method.\n",
    "\n",
    "with open('WebScrapring.csv', 'w', newline='', encoding='UTF8') as s:   \n",
    "    writer = csv.writer(s)\n",
    "    writer.writerow(header)\n",
    "    writer.writerow(data)\n",
    "    \n"
   ]
  },
  {
   "cell_type": "code",
   "execution_count": 10,
   "id": "1a5bbaad",
   "metadata": {},
   "outputs": [
    {
     "name": "stdout",
     "output_type": "stream",
     "text": [
      "         Date                                       Product_Name      Price\n",
      "0  2022-02-07  Google Pixel 6 5G (Stromy Black, 8GB RAM, 128G...  62,300.00\n"
     ]
    }
   ],
   "source": [
    "#Reading csv file and put in dataframe \n",
    "\n",
    "import pandas as pd\n",
    "\n",
    "df = pd.read_csv(r\"C:\\Users\\varyo\\WebScrapring.csv\")\n",
    "\n",
    "print(df)"
   ]
  },
  {
   "cell_type": "code",
   "execution_count": 11,
   "id": "f71d8c89",
   "metadata": {},
   "outputs": [],
   "source": [
    "#Appending the data into csv\n",
    "\n",
    "with open('WebScrapring.csv', 'a+', newline='', encoding='UTF8') as s:   \n",
    "    writer = csv.writer(s)\n",
    "    writer.writerow(data)"
   ]
  },
  {
   "cell_type": "code",
   "execution_count": 12,
   "id": "2be0181b",
   "metadata": {},
   "outputs": [],
   "source": [
    "#Creating_A_function_for_generating_this_Data_for_everyday\n",
    "\n",
    "def checkingprice():\n",
    "    url='https://www.amazon.in/Google-Pixel-Stromy-Black-Storage/dp/B09LZ8GXR7/ref=sr_1_2?keywords=pixel+6&qid=1644214474&sprefix=pixel+%2Caps%2C413&sr=8-2'\n",
    "    headers={\"User-Agent\": \"Mozilla/5.0 (Windows NT 10.0; Win64; x64) AppleWebKit/537.36 (KHTML, like Gecko) Chrome/98.0.4758.82 Safari/537.36\",\"Accept-Encoding\":\"gzip, deflate\", \"Accept\":\"text/html,application/xhtml+xml,application/xml;q=0.9,*/*;q=0.8\", \"DNT\":\"1\",\"Connection\":\"close\", \"Upgrade-Insecure-Requests\":\"1\"}\n",
    "    page=requests.get(url,headers=headers)\n",
    "    soup1=BeautifulSoup(page.content,\"html.parser\")\n",
    "    soup2=BeautifulSoup(soup1.prettify(),\"html.parser\")\n",
    "    title=soup2.find(id='productTitle').get_text()\n",
    "    price=soup2.find('span','a-offscreen').get_text()\n",
    "    price=price.strip()[1:] \n",
    "    title=title.strip()\n",
    "    import datetime\n",
    "    today=datetime.date.today()\n",
    "    import csv\n",
    "    header=['Date','Product_Name','Price']\n",
    "    data=[today,title,price]\n",
    "    with open('WebScrapring.csv', 'a+', newline='', encoding='UTF8') as s:   \n",
    "        writer = csv.writer(s)\n",
    "        writer.writerow(data)\n",
    "    \n",
    "    \n"
   ]
  },
  {
   "cell_type": "code",
   "execution_count": null,
   "id": "cc981971",
   "metadata": {},
   "outputs": [],
   "source": [
    "#For_Calling_function_for_everyday\n",
    "import time\n",
    "while(True):\n",
    "    checkingprice()\n",
    "    time.sleep(86400)  #60seconds*60minutes*24hrs"
   ]
  },
  {
   "cell_type": "code",
   "execution_count": 30,
   "id": "2c4d6ee7",
   "metadata": {},
   "outputs": [
    {
     "data": {
      "text/html": [
       "<div>\n",
       "<style scoped>\n",
       "    .dataframe tbody tr th:only-of-type {\n",
       "        vertical-align: middle;\n",
       "    }\n",
       "\n",
       "    .dataframe tbody tr th {\n",
       "        vertical-align: top;\n",
       "    }\n",
       "\n",
       "    .dataframe thead th {\n",
       "        text-align: right;\n",
       "    }\n",
       "</style>\n",
       "<table border=\"1\" class=\"dataframe\">\n",
       "  <thead>\n",
       "    <tr style=\"text-align: right;\">\n",
       "      <th></th>\n",
       "      <th>Date</th>\n",
       "      <th>Product_Name</th>\n",
       "      <th>Price</th>\n",
       "    </tr>\n",
       "  </thead>\n",
       "  <tbody>\n",
       "    <tr>\n",
       "      <th>0</th>\n",
       "      <td>2022-02-07</td>\n",
       "      <td>Google Pixel 6 5G (Stromy Black, 8GB RAM, 128G...</td>\n",
       "      <td>62,300.00</td>\n",
       "    </tr>\n",
       "    <tr>\n",
       "      <th>1</th>\n",
       "      <td>2022-02-07</td>\n",
       "      <td>Google Pixel 6 5G (Stromy Black, 8GB RAM, 128G...</td>\n",
       "      <td>62,300.00</td>\n",
       "    </tr>\n",
       "  </tbody>\n",
       "</table>\n",
       "</div>"
      ],
      "text/plain": [
       "         Date                                       Product_Name      Price\n",
       "0  2022-02-07  Google Pixel 6 5G (Stromy Black, 8GB RAM, 128G...  62,300.00\n",
       "1  2022-02-07  Google Pixel 6 5G (Stromy Black, 8GB RAM, 128G...  62,300.00"
      ]
     },
     "execution_count": 30,
     "metadata": {},
     "output_type": "execute_result"
    }
   ],
   "source": [
    "#Printing_csv as df\n",
    "\n",
    "import pandas as pd\n",
    "df=pd.read_csv(r\"C:\\Users\\varyo\\WebScrapring.csv\")\n",
    "df"
   ]
  },
  {
   "cell_type": "code",
   "execution_count": null,
   "id": "26559c59",
   "metadata": {},
   "outputs": [],
   "source": [
    "#Feature Work:\n",
    "#   ->Can send mail when the prize reduces below some amount\n",
    "    "
   ]
  }
 ],
 "metadata": {
  "kernelspec": {
   "display_name": "Python 3",
   "language": "python",
   "name": "python3"
  },
  "language_info": {
   "codemirror_mode": {
    "name": "ipython",
    "version": 3
   },
   "file_extension": ".py",
   "mimetype": "text/x-python",
   "name": "python",
   "nbconvert_exporter": "python",
   "pygments_lexer": "ipython3",
   "version": "3.8.8"
  }
 },
 "nbformat": 4,
 "nbformat_minor": 5
}
